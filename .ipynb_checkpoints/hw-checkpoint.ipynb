{
 "cells": [
  {
   "cell_type": "code",
   "execution_count": 7,
   "id": "0a3e4250",
   "metadata": {},
   "outputs": [
    {
     "name": "stdout",
     "output_type": "stream",
     "text": [
      "Collecting ir-datasets\n",
      "  Obtaining dependency information for ir-datasets from https://files.pythonhosted.org/packages/d4/79/a1003466149ce37c3461a074ebe6be826e8beb5828ddc1f8ff4685cd7010/ir_datasets-0.5.7-py3-none-any.whl.metadata\n",
      "  Using cached ir_datasets-0.5.7-py3-none-any.whl.metadata (12 kB)\n",
      "Requirement already satisfied: beautifulsoup4>=4.4.1 in /opt/homebrew/anaconda3/lib/python3.11/site-packages (from ir-datasets) (4.12.2)\n",
      "Requirement already satisfied: inscriptis>=2.2.0 in /opt/homebrew/anaconda3/lib/python3.11/site-packages (from ir-datasets) (2.5.0)\n",
      "Requirement already satisfied: lxml>=4.5.2 in /opt/homebrew/anaconda3/lib/python3.11/site-packages (from ir-datasets) (4.9.3)\n",
      "Requirement already satisfied: numpy>=1.18.1 in /opt/homebrew/anaconda3/lib/python3.11/site-packages (from ir-datasets) (1.24.3)\n",
      "Requirement already satisfied: pyyaml>=5.3.1 in /opt/homebrew/anaconda3/lib/python3.11/site-packages (from ir-datasets) (6.0)\n",
      "Requirement already satisfied: requests>=2.22.0 in /opt/homebrew/anaconda3/lib/python3.11/site-packages (from ir-datasets) (2.31.0)\n",
      "Requirement already satisfied: tqdm>=4.38.0 in /opt/homebrew/anaconda3/lib/python3.11/site-packages (from ir-datasets) (4.65.0)\n",
      "Requirement already satisfied: trec-car-tools>=2.5.4 in /opt/homebrew/anaconda3/lib/python3.11/site-packages (from ir-datasets) (2.6)\n",
      "Requirement already satisfied: lz4>=3.1.10 in /opt/homebrew/anaconda3/lib/python3.11/site-packages (from ir-datasets) (4.3.2)\n",
      "Requirement already satisfied: warc3-wet>=0.2.3 in /opt/homebrew/anaconda3/lib/python3.11/site-packages (from ir-datasets) (0.2.3)\n",
      "Requirement already satisfied: warc3-wet-clueweb09>=0.2.5 in /opt/homebrew/anaconda3/lib/python3.11/site-packages (from ir-datasets) (0.2.5)\n",
      "Requirement already satisfied: zlib-state>=0.1.3 in /opt/homebrew/anaconda3/lib/python3.11/site-packages (from ir-datasets) (0.1.6)\n",
      "Requirement already satisfied: ijson>=3.1.3 in /opt/homebrew/anaconda3/lib/python3.11/site-packages (from ir-datasets) (3.2.3)\n",
      "Requirement already satisfied: unlzw3>=0.2.1 in /opt/homebrew/anaconda3/lib/python3.11/site-packages (from ir-datasets) (0.2.2)\n",
      "Requirement already satisfied: soupsieve>1.2 in /opt/homebrew/anaconda3/lib/python3.11/site-packages (from beautifulsoup4>=4.4.1->ir-datasets) (2.4)\n",
      "Requirement already satisfied: charset-normalizer<4,>=2 in /opt/homebrew/anaconda3/lib/python3.11/site-packages (from requests>=2.22.0->ir-datasets) (2.0.4)\n",
      "Requirement already satisfied: idna<4,>=2.5 in /opt/homebrew/anaconda3/lib/python3.11/site-packages (from requests>=2.22.0->ir-datasets) (3.4)\n",
      "Requirement already satisfied: urllib3<3,>=1.21.1 in /opt/homebrew/anaconda3/lib/python3.11/site-packages (from requests>=2.22.0->ir-datasets) (1.26.16)\n",
      "Requirement already satisfied: certifi>=2017.4.17 in /opt/homebrew/anaconda3/lib/python3.11/site-packages (from requests>=2.22.0->ir-datasets) (2023.7.22)\n",
      "Requirement already satisfied: cbor>=1.0.0 in /opt/homebrew/anaconda3/lib/python3.11/site-packages (from trec-car-tools>=2.5.4->ir-datasets) (1.0.0)\n",
      "Using cached ir_datasets-0.5.7-py3-none-any.whl (337 kB)\n",
      "Installing collected packages: ir-datasets\n",
      "Successfully installed ir-datasets-0.5.7\n"
     ]
    }
   ],
   "source": [
    "!pip install ir-datasets"
   ]
  },
  {
   "cell_type": "code",
   "execution_count": 8,
   "id": "9254ca00",
   "metadata": {},
   "outputs": [
    {
     "name": "stderr",
     "output_type": "stream",
     "text": [
      "[nltk_data] Downloading package punkt to /Users/dogiheon/nltk_data...\n",
      "[nltk_data]   Package punkt is already up-to-date!\n",
      "[nltk_data] Downloading package wordnet to\n",
      "[nltk_data]     /Users/dogiheon/nltk_data...\n",
      "[nltk_data]   Package wordnet is already up-to-date!\n",
      "[nltk_data] Downloading package averaged_perceptron_tagger to\n",
      "[nltk_data]     /Users/dogiheon/nltk_data...\n",
      "[nltk_data]   Package averaged_perceptron_tagger is already up-to-\n",
      "[nltk_data]       date!\n"
     ]
    },
    {
     "name": "stdout",
     "output_type": "stream",
     "text": [
      "\n",
      "# example of get_normalized_toks: ['experimental', 'investigation', 'of', 'the', 'aerodynamics', 'of', 'a', 'wing', 'in', 'a', 'slipstream', '.', 'an', 'experimental', 'study', 'of', 'a', 'wing', 'in', 'a', 'propeller', 'slipstream', 'be', 'make', 'in', 'order', 'to', 'determine', 'the', 'spanwise', 'distribution', 'of', 'the', 'lift', 'increase', 'due', 'to', 'slipstream', 'at', 'different', 'angle', 'of', 'attack', 'of', 'the', 'wing', 'and', 'at', 'different', 'free', 'stream', 'to', 'slipstream', 'velocity', 'ratio', '.']\n",
      "the relevant documents of query 1: ['d184' 'd29' 'd31' 'd12' 'd51' 'd102' 'd13' 'd14' 'd15' 'd57' 'd378'\n",
      " 'd859' 'd185' 'd30' 'd37' 'd52' 'd142' 'd195' 'd875' 'd56' 'd66' 'd95'\n",
      " 'd462' 'd497' 'd858' 'd876' 'd879' 'd880']\n"
     ]
    }
   ],
   "source": [
    "import matplotlib.pyplot as plt\n",
    "import pandas as pd\n",
    "import numpy as np\n",
    "\n",
    "import nltk\n",
    "from nltk.tokenize import sent_tokenize, word_tokenize\n",
    "from nltk.stem import WordNetLemmatizer\n",
    "\n",
    "import ir_datasets\n",
    "\n",
    "nltk.download('punkt')\n",
    "nltk.download('wordnet')\n",
    "nltk.download('averaged_perceptron_tagger')\n",
    "\n",
    "# Return normalized words after tokenizing a sentence and lemmatizing words\n",
    "def get_normalized_toks(my_sentence):\n",
    "  toks = word_tokenize(my_sentence)\n",
    "  lemmatizer = WordNetLemmatizer()\n",
    "\n",
    "  # Refer to https://www.ling.upenn.edu/courses/Fall_2003/ling001/penn_treebank_pos.html\n",
    "  tags = nltk.pos_tag(toks)\n",
    "  result = []\n",
    "  ## from https://velog.io/@pheol9166/%ED%91%9C%EC%A0%9C%EC%96%B4-%EC%B6%94%EC%B6%9CLemmatization\n",
    "  for token, tag in tags:\n",
    "    if tag.startswith('N'):\n",
    "      lemma = lemmatizer.lemmatize(token, pos='n')\n",
    "    elif tag.startswith('V'):\n",
    "      lemma = lemmatizer.lemmatize(token, pos='v')\n",
    "    elif tag.startswith('J'):\n",
    "      lemma = lemmatizer.lemmatize(token, pos='a')\n",
    "    elif tag.startswith('R'):\n",
    "      lemma = lemmatizer.lemmatize(token, pos='r')\n",
    "    else:\n",
    "      lemma = lemmatizer.lemmatize(token)\n",
    "\n",
    "    result.append(lemma)\n",
    "  return result\n",
    "\n",
    "\n",
    "# dataset type: ir_datasets.datasets.base.Dataset\n",
    "# qid: query id (string type)\n",
    "def get_answer_set(dataset, qid):\n",
    "  res = []\n",
    "  for qrel in dataset.qrels_iter():\n",
    "    if qid == qrel.query_id:\n",
    "      if qrel.relevance != -1:\n",
    "        #print(qrel.query_id, qrel.doc_id, qrel.relevance, qrel.iteration)\n",
    "        res.append('d'+qrel.doc_id)\n",
    "  return np.array(res)\n",
    "\n",
    "\n",
    "print()\n",
    "\n",
    "#  Example\n",
    "s = 'experimental investigation of the aerodynamics of a\\nwing in a slipstream .\\n  an experimental study of a wing in a propeller slipstream was\\nmade in order to determine the spanwise distribution of the lift\\nincrease due to slipstream at different angles of attack of the wing\\nand at different free stream to slipstream velocity ratios.'\n",
    "toks = get_normalized_toks(s)\n",
    "print('# example of get_normalized_toks:', toks)\n",
    "\n",
    "#  Example\n",
    "dataset = ir_datasets.load(\"cranfield\")\n",
    "print('the relevant documents of query 1:', get_answer_set(dataset, '1'))"
   ]
  },
  {
   "cell_type": "markdown",
   "id": "87e60449",
   "metadata": {},
   "source": [
    "# 1"
   ]
  },
  {
   "cell_type": "code",
   "execution_count": 9,
   "id": "061e88e4",
   "metadata": {},
   "outputs": [],
   "source": [
    "my_dic = {}\n",
    "NUM_DOC = 1400-2\n",
    "NUM_QUERY = 225\n",
    "for doc in dataset.docs_iter()[:NUM_DOC]:\n",
    "    toks = get_normalized_toks(doc.text)\n",
    "    for term in toks:\n",
    "        if my_dic.get(term)==None:\n",
    "            my_dic[term]=0\n",
    "        my_dic[term]+=1"
   ]
  },
  {
   "cell_type": "code",
   "execution_count": 10,
   "id": "a23c715b",
   "metadata": {},
   "outputs": [],
   "source": [
    "my_dic_desc=sorted(my_dic.values())[::-1]"
   ]
  },
  {
   "cell_type": "code",
   "execution_count": 11,
   "id": "3b56ed05",
   "metadata": {},
   "outputs": [
    {
     "data": {
      "image/png": "[encoded data removed]",
      "text/plain": [
       "<Figure size 640x480 with 1 Axes>"
      ]
     },
     "metadata": {},
     "output_type": "display_data"
    }
   ],
   "source": [
    "import matplotlib.pyplot as plt\n",
    "\n",
    "x = my_dic_desc\n",
    "y = [i for i in range(1,len(my_dic_desc)+1)]\n",
    "\n",
    "plt.plot(x, y)\n",
    "\n",
    "plt.title(\"Zipf's law\")\n",
    "\n",
    "plt.show()"
   ]
  },
  {
   "cell_type": "markdown",
   "id": "7b03cc61",
   "metadata": {},
   "source": [
    "# 2"
   ]
  },
  {
   "cell_type": "code",
   "execution_count": 12,
   "id": "a5a28055",
   "metadata": {},
   "outputs": [
    {
     "data": {
      "image/png": "[encoded data removed]",
      "text/plain": [
       "<Figure size 640x480 with 1 Axes>"
      ]
     },
     "metadata": {},
     "output_type": "display_data"
    }
   ],
   "source": [
    "import math\n",
    "\n",
    "x = [i for i in range(1,len(my_dic_desc)+1)]\n",
    "y = my_dic_desc\n",
    "log_x = list(map(lambda x: math.log10(x), x))\n",
    "log_y = list(map(lambda y: math.log10(y), y))\n",
    "plt.plot(log_x, log_y)\n",
    "\n",
    "log_c = 4.3\n",
    "k = -1\n",
    "\n",
    "x = [i for i in range(1,len(my_dic_desc)+1)]\n",
    "y = [i for i in range(1,len(my_dic_desc)+1)]\n",
    "log_x_2 = list(map(lambda x: math.log10(x), x))\n",
    "log_y_2 = list(map(lambda y: log_c+k*math.log10(y), y))\n",
    "plt.plot(log_x_2, log_y_2)\n",
    "\n",
    "plt.show()"
   ]
  },
  {
   "cell_type": "markdown",
   "id": "da46a1d5",
   "metadata": {},
   "source": [
    "# 3"
   ]
  },
  {
   "cell_type": "code",
   "execution_count": 13,
   "id": "3e8992f7",
   "metadata": {},
   "outputs": [],
   "source": [
    "NUM_DOC = 1400-2\n",
    "\n",
    "terms=set()\n",
    "for doc in dataset.docs_iter():\n",
    "    if doc.text=='': continue\n",
    "    toks = get_normalized_toks(doc.text)\n",
    "    for tok in toks:\n",
    "        terms.add(tok)\n",
    "terms=sorted(terms)"
   ]
  },
  {
   "cell_type": "code",
   "execution_count": 14,
   "id": "68d79080",
   "metadata": {},
   "outputs": [],
   "source": [
    "data=dict()\n",
    "doc_index=1\n",
    "for doc in dataset.docs_iter():\n",
    "    if doc.text=='': continue\n",
    "    temp=dict()\n",
    "    for term in terms:\n",
    "        temp[term]=0.0\n",
    "    toks = get_normalized_toks(doc.text)\n",
    "    for tok in toks:\n",
    "        temp[tok]+=1\n",
    "    data[f\"q{doc_index}\"]=list(temp.values())\n",
    "    doc_index+=1"
   ]
  },
  {
   "cell_type": "code",
   "execution_count": 15,
   "id": "cd41a7a4",
   "metadata": {},
   "outputs": [
    {
     "name": "stdout",
     "output_type": "stream",
     "text": [
      "                q1   q2   q3   q4   q5   q6   q7   q8   q9  q10  ...  q1389  \\\n",
      "$              0.0  0.0  0.0  0.0  0.0  0.0  0.0  0.0  0.0  0.0  ...    0.0   \n",
      "'              0.0  0.0  0.0  0.0  0.0  0.0  0.0  0.0  0.0  0.0  ...    0.0   \n",
      "''             0.0  0.0  0.0  0.0  0.0  0.0  0.0  0.0  0.0  0.0  ...    0.0   \n",
      "'density       0.0  0.0  0.0  0.0  0.0  0.0  0.0  0.0  0.0  0.0  ...    0.0   \n",
      "'displacement  0.0  0.0  0.0  0.0  0.0  0.0  0.0  0.0  0.0  0.0  ...    0.0   \n",
      "...            ...  ...  ...  ...  ...  ...  ...  ...  ...  ...  ...    ...   \n",
      "zhukhovitskii  0.0  0.0  0.0  0.0  0.0  0.0  0.0  0.0  0.0  0.0  ...    0.0   \n",
      "zone           0.0  0.0  0.0  0.0  0.0  0.0  0.0  0.0  0.0  0.0  ...    0.0   \n",
      "zoom           0.0  0.0  0.0  0.0  0.0  0.0  0.0  0.0  0.0  0.0  ...    0.0   \n",
      "zuk            0.0  0.0  0.0  0.0  0.0  0.0  0.0  0.0  0.0  0.0  ...    0.0   \n",
      "zurich         0.0  0.0  0.0  0.0  0.0  0.0  0.0  0.0  0.0  0.0  ...    0.0   \n",
      "\n",
      "               q1390  q1391  q1392  q1393  q1394  q1395  q1396  q1397  q1398  \n",
      "$                0.0    0.0    0.0    0.0    0.0    0.0    0.0    0.0    0.0  \n",
      "'                0.0    0.0    0.0    0.0    0.0    0.0    0.0    0.0    0.0  \n",
      "''               0.0    0.0    0.0    0.0    0.0    0.0    0.0    0.0    0.0  \n",
      "'density         0.0    0.0    0.0    0.0    0.0    0.0    0.0    0.0    0.0  \n",
      "'displacement    0.0    0.0    0.0    0.0    0.0    0.0    0.0    0.0    0.0  \n",
      "...              ...    ...    ...    ...    ...    ...    ...    ...    ...  \n",
      "zhukhovitskii    0.0    0.0    0.0    0.0    0.0    0.0    0.0    0.0    0.0  \n",
      "zone             0.0    0.0    0.0    0.0    0.0    0.0    0.0    0.0    0.0  \n",
      "zoom             0.0    0.0    0.0    0.0    0.0    0.0    0.0    0.0    0.0  \n",
      "zuk              0.0    0.0    0.0    0.0    0.0    0.0    0.0    0.0    0.0  \n",
      "zurich           0.0    0.0    0.0    0.0    0.0    0.0    0.0    0.0    0.0  \n",
      "\n",
      "[8406 rows x 1398 columns]\n"
     ]
    }
   ],
   "source": [
    "count_matrix_dataframe = pd.DataFrame(data, index=terms)\n",
    "print(count_matrix_dataframe)"
   ]
  },
  {
   "cell_type": "code",
   "execution_count": 16,
   "id": "e12d997e",
   "metadata": {},
   "outputs": [
    {
     "data": {
      "text/plain": [
       "'s            1.0\n",
       ",             5.0\n",
       ".            10.0\n",
       "a            10.0\n",
       "again         1.0\n",
       "             ... \n",
       "viscosity     2.0\n",
       "viscous       2.0\n",
       "vorticity     2.0\n",
       "wave          2.0\n",
       "while         1.0\n",
       "Name: q2, Length: 95, dtype: float64"
      ]
     },
     "execution_count": 16,
     "metadata": {},
     "output_type": "execute_result"
    }
   ],
   "source": [
    "count_matrix_dataframe.loc[count_matrix_dataframe['q2']>0, 'q2']"
   ]
  },
  {
   "cell_type": "markdown",
   "id": "36cd2abc",
   "metadata": {},
   "source": [
    "# 4"
   ]
  },
  {
   "cell_type": "code",
   "execution_count": 17,
   "id": "73e6e787",
   "metadata": {},
   "outputs": [],
   "source": [
    "import math as m\n",
    "import pandas as pd\n",
    "import numpy as np"
   ]
  },
  {
   "cell_type": "code",
   "execution_count": 18,
   "id": "8124ef24",
   "metadata": {},
   "outputs": [],
   "source": [
    "global query_df, total_doc"
   ]
  },
  {
   "cell_type": "code",
   "execution_count": 19,
   "id": "0f33dc24",
   "metadata": {},
   "outputs": [],
   "source": [
    "def tfidf_weight(d_vecs, q_vec, mode='nnn.nnn', topk=50):\n",
    "    mode=mode.split(\".\")\n",
    "    d_mode=mode[0]\n",
    "    q_mode=mode[1]\n",
    "    \n",
    "    # query\n",
    "    q_pd=pd.DataFrame({\"tf-raw\":list(q_vec.values())})\n",
    "    if q_mode[0]=='n':\n",
    "        q_pd[\"tf-wght\"]=q_pd[\"tf-raw\"]\n",
    "    elif q_mode[0]=='l':\n",
    "        q_pd[\"tf-wght\"]=q_pd[\"tf-raw\"].apply(lambda x: m.log10(x) + 1 if x > 0 else 0)\n",
    "    if q_mode[1]=='n':\n",
    "        q_pd[\"weight\"]=q_pd[\"tf-wght\"]\n",
    "    elif q_mode[1]=='t':\n",
    "        q_pd[\"df\"] = query_df\n",
    "        q_pd[\"idf\"] = np.log10(total_doc / q_pd[\"df\"])\n",
    "        q_pd[\"weight\"] = q_pd[\"tf-wght\"] * q_pd[\"idf\"]\n",
    "    if q_mode[2]=='n':\n",
    "        q_pd[\"nlized\"]=q_pd[\"weight\"]\n",
    "        \n",
    "    q_nlized = q_pd[\"nlized\"].tolist()\n",
    "    \n",
    "    weights=dict()\n",
    "    for d_vec in d_vecs:\n",
    "        d_pd=pd.DataFrame({\"tf-raw\":list(d_vec[1].values())})\n",
    "        \n",
    "        if d_mode[0]=='n':\n",
    "            d_pd[\"tf-wght\"]=d_pd[\"tf-raw\"]\n",
    "        elif d_mode[0]=='l':\n",
    "            d_pd[\"tf-wght\"]=d_pd[\"tf-raw\"].apply(lambda x: m.log10(x) + 1 if x > 0 else 0)\n",
    "            \n",
    "        if d_mode[1]=='n':\n",
    "            d_pd[\"weight\"]=d_pd[\"tf-wght\"]\n",
    "        \n",
    "        if d_mode[2]=='n':\n",
    "            d_pd[\"nlized\"]=d_pd[\"weight\"]\n",
    "        elif d_mode[2]=='c':\n",
    "            norm = np.sqrt((d_pd[\"weight\"] ** 2).sum())\n",
    "            d_pd[\"nlized\"] = d_pd[\"weight\"] / norm\n",
    "        \n",
    "        d_nlized = d_pd[\"nlized\"].tolist()\n",
    "        \n",
    "        temp_weight = sum(q_nlized[i] * d_nlized[i] for i in range(len(q_nlized)))\n",
    "        weights[f\"d{d_vec[0]}\"] = temp_weight\n",
    "        \n",
    "    sorted_weights=sorted(weights.items(), key=lambda x:x[1], reverse=True)[:topk]\n",
    "    return [t[0] for t in sorted_weights]"
   ]
  },
  {
   "cell_type": "code",
   "execution_count": 20,
   "id": "970c150a",
   "metadata": {},
   "outputs": [],
   "source": [
    "def get_scores(retrieved_set, relevant_set):\n",
    "    retrieved_set = set(retrieved_set)\n",
    "    relevant_set = set(relevant_set)\n",
    "\n",
    "    relevant_retrieved_set = retrieved_set & relevant_set\n",
    "\n",
    "    precision = len(relevant_retrieved_set) / len(retrieved_set)\n",
    "    recall = len(relevant_retrieved_set) / len(relevant_set)\n",
    "\n",
    "    return (precision,recall)"
   ]
  },
  {
   "cell_type": "code",
   "execution_count": 21,
   "id": "e878475e",
   "metadata": {},
   "outputs": [],
   "source": [
    "def initialize(qid):\n",
    "    # find common terms\n",
    "    common_terms=set()\n",
    "    for it in dataset.queries_iter():\n",
    "        if it.text=='': continue\n",
    "        if it.query_id==qid:\n",
    "            toks=get_normalized_toks(it.text)\n",
    "            for tok in toks:\n",
    "                common_terms.add(tok)\n",
    "            break\n",
    "    for it in dataset.docs_iter():\n",
    "        toks=get_normalized_toks(it.text)\n",
    "        for tok in toks:\n",
    "            common_terms.add(tok)\n",
    "    common_terms=sorted(common_terms)\n",
    "    \n",
    "    # query df\n",
    "    global query_df, total_doc\n",
    "    query_df_dict=dict()\n",
    "    total_doc=0\n",
    "    for term in common_terms:\n",
    "        query_df_dict[term]=0\n",
    "    for it in dataset.docs_iter():\n",
    "        if it.text=='': continue\n",
    "        total_doc+=1\n",
    "        toks=get_normalized_toks(it.text)\n",
    "        toks_set=set(toks)\n",
    "        for tok in toks_set:\n",
    "            query_df_dict[tok]+=1\n",
    "    query_df=query_df_dict.values()\n",
    "    \n",
    "    # query vector\n",
    "    query_vector=dict()\n",
    "    for term in common_terms:\n",
    "        query_vector[term]=0\n",
    "    for it in dataset.queries_iter():\n",
    "        if it.text=='': continue\n",
    "        if it.query_id==qid:\n",
    "            toks=get_normalized_toks(it.text)\n",
    "            for tok in toks:\n",
    "                query_vector[tok]+=1\n",
    "            break\n",
    "\n",
    "    # doc_vectors \n",
    "    doc_vectors=[]       \n",
    "    for it in dataset.docs_iter():\n",
    "        if it.text=='': continue\n",
    "        doc_id=it.doc_id\n",
    "        toks=get_normalized_toks(it.text)\n",
    "        temp_vector=dict()\n",
    "        for term in common_terms:\n",
    "            temp_vector[term]=0\n",
    "        for tok in toks:\n",
    "            temp_vector[tok]+=1\n",
    "        doc_vectors.append((doc_id,temp_vector))\n",
    "        \n",
    "    # nnn.nnn\n",
    "    res1=tfidf_weight(doc_vectors,query_vector)\n",
    "    print('------ nnn.nnn -----')\n",
    "    print('retrieved set of query',qid,':', res1)\n",
    "    res2 = get_answer_set(dataset, qid)\n",
    "    scores = get_scores(res1, res2)\n",
    "    print('precision/recall:', scores)\n",
    "\n",
    "    # lnc.ltn\n",
    "    res1 = tfidf_weight(doc_vectors, query_vector, mode='lnc.ltn')\n",
    "    print('------ lnc.ltn -----')\n",
    "    print('retrieved set of query',qid,':', res1)\n",
    "    res2 = get_answer_set(dataset, qid)\n",
    "    scores = get_scores(res1, res2)\n",
    "    print('precision/recall:', scores)"
   ]
  },
  {
   "cell_type": "code",
   "execution_count": 22,
   "id": "3f156931",
   "metadata": {},
   "outputs": [
    {
     "name": "stdout",
     "output_type": "stream",
     "text": [
      "------ nnn.nnn -----\n",
      "retrieved set of query 1 : ['d1201', 'd798', 'd1313', 'd244', 'd1147', 'd792', 'd417', 'd329', 'd874', 'd131', 'd721', 'd262', 'd1040', 'd1239', 'd499', 'd928', 'd89', 'd94', 'd1047', 'd315', 'd576', 'd640', 'd160', 'd193', 'd927', 'd717', 'd826', 'd14', 'd427', 'd151', 'd189', 'd433', 'd373', 'd73', 'd110', 'd452', 'd1072', 'd1144', 'd1277', 'd49', 'd1244', 'd202', 'd225', 'd673', 'd695', 'd1268', 'd216', 'd827', 'd1325', 'd9']\n",
      "precision/recall: (0.02, 0.03571428571428571)\n",
      "------ lnc.ltn -----\n",
      "retrieved set of query 1 : ['d51', 'd486', 'd13', 'd12', 'd1268', 'd878', 'd141', 'd184', 'd359', 'd573', 'd251', 'd875', 'd663', 'd526', 'd1361', 'd329', 'd747', 'd1072', 'd78', 'd665', 'd792', 'd14', 'd1003', 'd944', 'd1186', 'd746', 'd56', 'd172', 'd685', 'd374', 'd879', 'd25', 'd880', 'd1328', 'd236', 'd42', 'd154', 'd284', 'd925', 'd1144', 'd1194', 'd232', 'd681', 'd914', 'd332', 'd36', 'd28', 'd1113', 'd435', 'd540']\n",
      "precision/recall: (0.18, 0.32142857142857145)\n"
     ]
    }
   ],
   "source": [
    "initialize('1')"
   ]
  },
  {
   "cell_type": "code",
   "execution_count": 23,
   "id": "f4840d9c",
   "metadata": {},
   "outputs": [
    {
     "name": "stdout",
     "output_type": "stream",
     "text": [
      "------ nnn.nnn -----\n",
      "retrieved set of query 2 : ['d1201', 'd798', 'd1313', 'd329', 'd417', 'd1147', 'd244', 'd721', 'd1040', 'd499', 'd792', 'd1239', 'd89', 'd94', 'd927', 'd131', 'd262', 'd673', 'd452', 'd928', 'd160', 'd73', 'd1047', 'd1244', 'd433', 'd826', 'd522', 'd315', 'd874', 'd1144', 'd199', 'd1072', 'd189', 'd576', 'd757', 'd364', 'd49', 'd140', 'd151', 'd193', 'd272', 'd827', 'd225', 'd640', 'd797', 'd14', 'd210', 'd695', 'd992', 'd1248']\n",
      "precision/recall: (0.02, 0.041666666666666664)\n",
      "------ lnc.ltn -----\n",
      "retrieved set of query 2 : ['d12', 'd51', 'd746', 'd875', 'd884', 'd1089', 'd172', 'd792', 'd1169', 'd1170', 'd729', 'd251', 'd747', 'd724', 'd1158', 'd700', 'd14', 'd781', 'd36', 'd141', 'd726', 'd374', 'd429', 'd253', 'd75', 'd1380', 'd883', 'd908', 'd607', 'd878', 'd1263', 'd1217', 'd846', 'd810', 'd78', 'd486', 'd288', 'd606', 'd390', 'd1042', 'd47', 'd925', 'd712', 'd284', 'd1147', 'd876', 'd1095', 'd1163', 'd1300', 'd805']\n",
      "precision/recall: (0.1, 0.20833333333333334)\n"
     ]
    }
   ],
   "source": [
    "initialize('2')"
   ]
  }
 ],
 "metadata": {
  "kernelspec": {
   "display_name": "Python 3 (ipykernel)",
   "language": "python",
   "name": "python3"
  },
  "language_info": {
   "codemirror_mode": {
    "name": "ipython",
    "version": 3
   },
   "file_extension": ".py",
   "mimetype": "text/x-python",
   "name": "python",
   "nbconvert_exporter": "python",
   "pygments_lexer": "ipython3",
   "version": "3.11.4"
  }
 },
 "nbformat": 4,
 "nbformat_minor": 5
}
